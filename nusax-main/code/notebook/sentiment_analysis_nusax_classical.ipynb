{
  "cells": [
    {
      "cell_type": "markdown",
      "metadata": {
        "colab_type": "text",
        "id": "view-in-github"
      },
      "source": [
        "<a href=\"https://colab.research.google.com/github/IndoNLP/nusax/blob/main/code/notebook/sentiment_analysis_nusax_classical.ipynb\" target=\"_parent\"><img src=\"https://colab.research.google.com/assets/colab-badge.svg\" alt=\"Open In Colab\"/></a>"
      ]
    },
    {
      "cell_type": "markdown",
      "metadata": {
        "id": "evcxRrSePUJe"
      },
      "source": [
        "A code to train sentiment analysis for NusaX dataset.\n",
        "\n",
        "Simply `runtime > run all` to train and test.\n",
        "Modify the language on the bottom part of this code."
      ]
    },
    {
      "cell_type": "markdown",
      "metadata": {
        "id": "esRErPgWTO7W"
      },
      "source": [
        "# Training code"
      ]
    },
    {
      "cell_type": "code",
      "execution_count": 10,
      "metadata": {
        "cellView": "code",
        "colab": {
          "base_uri": "https://localhost:8080/"
        },
        "id": "bytkulDT2MfD",
        "outputId": "4dc7fda2-7ed1-4276-c037-1e3ffbe0a363"
      },
      "outputs": [
        {
          "name": "stdout",
          "output_type": "stream",
          "text": [
            "fatal: destination path 'nusax' already exists and is not an empty directory.\n"
          ]
        }
      ],
      "source": [
        "# grab the data first\n",
        "!git clone https://github.com/IndoNLP/nusax.git"
      ]
    },
    {
      "cell_type": "code",
      "execution_count": 2,
      "metadata": {
        "cellView": "code",
        "colab": {
          "base_uri": "https://localhost:8080/"
        },
        "id": "XvHinXPi2WDF",
        "outputId": "aa6a0155-6da3-4052-c82f-cee3f6046ced"
      },
      "outputs": [
        {
          "name": "stdout",
          "output_type": "stream",
          "text": [
            "[nltk_data] Downloading package punkt to /root/nltk_data...\n",
            "[nltk_data]   Unzipping tokenizers/punkt.zip.\n"
          ]
        }
      ],
      "source": [
        "import pandas as pd\n",
        "from nltk import word_tokenize\n",
        "import nltk\n",
        "nltk.download('punkt')\n",
        "\n",
        "# read csv data\n",
        "# return a pair of (list of data, list of label)\n",
        "# also tokenize the input first\n",
        "def load_data(filedir):\n",
        "    df = pd.read_csv(filedir)\n",
        "    data = list(df['text'])\n",
        "    data = [\" \".join(word_tokenize(sent)) for sent in data]\n",
        "    return (data, list(df['label']))"
      ]
    },
    {
      "cell_type": "code",
      "execution_count": 8,
      "metadata": {
        "colab": {
          "base_uri": "https://localhost:8080/"
        },
        "id": "w8ioU2Qx3kNX",
        "outputId": "1bcefb37-a3cf-4851-8fb9-4273b318cb74"
      },
      "outputs": [
        {
          "name": "stdout",
          "output_type": "stream",
          "text": [
            "Training for sentiment analysis classifier indonesian\n"
          ]
        }
      ],
      "source": [
        "from sklearn.feature_extraction.text import CountVectorizer, TfidfVectorizer\n",
        "from sklearn.naive_bayes import MultinomialNB\n",
        "from sklearn.linear_model import LogisticRegression\n",
        "from sklearn.svm import SVC\n",
        "from sklearn.metrics import f1_score,accuracy_score\n",
        "from sklearn.model_selection import GridSearchCV\n",
        "from sklearn.model_selection import PredefinedSplit\n",
        "from scipy.sparse import vstack\n",
        "\n",
        "import numpy as np\n",
        "\n",
        "def hyperparam_tuning(xtrain, ytrain, xvalid, yvalid, classifier, param_grid):\n",
        "    # combine train and valid\n",
        "    x = vstack([xtrain, xvalid])\n",
        "    y = ytrain + yvalid\n",
        "\n",
        "    # create predefined split\n",
        "    # -1 for all training and 0 for all validation\n",
        "    ps = PredefinedSplit([-1] * len(ytrain) + [0] * len(yvalid))\n",
        "    clf = GridSearchCV(classifier, param_grid, cv = ps)\n",
        "    clf = clf.fit(x, y)\n",
        "\n",
        "    return clf\n",
        "\n",
        "\n",
        "def train_and_test(lang, directory=\"/content/nusax/datasets/sentiment/\", feature=\"BoW\", classifier=\"nb\"):\n",
        "    xtrain, ytrain = load_data(directory + lang +\"/train.csv\")\n",
        "    xvalid, yvalid = load_data(directory + lang + \"/valid.csv\")\n",
        "    xtest, ytest = load_data(directory + lang + \"/test.csv\")\n",
        "    \n",
        "    # train feature on train data\n",
        "    if feature == \"bow\":\n",
        "        vectorizer = CountVectorizer()\n",
        "    elif feature == \"tfidf\":\n",
        "        vectorizer = TfidfVectorizer()\n",
        "    else:\n",
        "        raise Exception('Vectorizer unknown. Use \"BoW\" or \"tfidf\"')\n",
        "    vectorizer.fit(xtrain)\n",
        "\n",
        "    # transform\n",
        "    xtrain = vectorizer.transform(xtrain)\n",
        "    xvalid = vectorizer.transform(xvalid)\n",
        "    xtest = vectorizer.transform(xtest)\n",
        "    \n",
        "    # all classifiers\n",
        "    classifier_model = {\"nb\" : MultinomialNB(),\n",
        "                        \"svm\": SVC(),\n",
        "                        \"lr\" : LogisticRegression(),\n",
        "                       }\n",
        "    # all params for grid-search\n",
        "    param_grids = {\"nb\" : {\"alpha\": np.linspace(0.001,1,50)},\n",
        "                   \"svm\": {'C': [0.01, 0.1, 1, 10, 100], 'kernel': ['rbf', 'linear']},\n",
        "                   \"lr\" : {'C': np.linspace(0.001,10,100)},\n",
        "                  }\n",
        "    \n",
        "    clf = hyperparam_tuning(xtrain, ytrain, xvalid, yvalid,\n",
        "                            classifier=classifier_model[classifier],\n",
        "                            param_grid=param_grids[classifier])\n",
        "\n",
        "    pred = clf.predict(xtest.toarray())\n",
        "    f1score = f1_score(ytest,pred, average='macro')\n",
        "    \n",
        "    return f1score, clf, vectorizer"
      ]
    },
    {
      "cell_type": "markdown",
      "metadata": {
        "id": "0SCOGyp9TT7_"
      },
      "source": [
        "# Testing"
      ]
    },
    {
      "cell_type": "code",
      "execution_count": 23,
      "metadata": {
        "cellView": "form",
        "colab": {
          "base_uri": "https://localhost:8080/"
        },
        "id": "O4eQmj054Z4M",
        "outputId": "25eca3e3-0767-455d-882f-22cb4c37cf0e"
      },
      "outputs": [
        {
          "name": "stdout",
          "output_type": "stream",
          "text": [
            "Training for sentiment analysis classifier indonesian\n",
            "Training done. F1 on test set is 0.7311052022751223\n",
            "\n",
            "Sentiment on the input text is ['positive']\n"
          ]
        }
      ],
      "source": [
        "#@title Sentiment analysis demo\n",
        "language = \"indonesian\" #@param [\"indonesian\", \"english\", \"javanese\", \"sundanese\", \"balinese\", \"madurese\", \"minangkabau\", \"toba_batak\", \"acehnese\", \"buginese\", \"ngaju\", \"banjarese\"]\n",
        "input_sentiment = \"saya sangat bahagia hari ini\" #@param {type:\"string\"}\n",
        "\n",
        "\n",
        "print(f\"Training for sentiment analysis classifier {language}\")\n",
        "f1, clf, vectorizer = train_and_test(language, feature=\"bow\")\n",
        "print(f\"Training done. F1 on test set is {f1}\")\n",
        "\n",
        "input_sentiment = \" \".join(word_tokenize(input_sentiment))\n",
        "sent = clf.predict(vectorizer.transform([input_sentiment]).toarray())\n",
        "print(f\"\\nSentiment on the input text is {sent}\")\n",
        "\n",
        "\n",
        "\n"
      ]
    }
  ],
  "metadata": {
    "colab": {
      "authorship_tag": "ABX9TyOAUa9iJuqTFMcxfR4MKPPr",
      "collapsed_sections": [
        "esRErPgWTO7W"
      ],
      "include_colab_link": true,
      "name": "sentiment-analysis-nusax-classical.ipynb",
      "provenance": []
    },
    "kernelspec": {
      "display_name": "Python 3",
      "name": "python3"
    },
    "language_info": {
      "name": "python"
    }
  },
  "nbformat": 4,
  "nbformat_minor": 0
}
